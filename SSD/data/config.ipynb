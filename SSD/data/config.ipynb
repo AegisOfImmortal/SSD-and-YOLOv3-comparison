{
 "cells": [
  {
   "cell_type": "code",
   "execution_count": 2,
   "metadata": {},
   "outputs": [],
   "source": [
    "# config.py\n",
    "import os.path\n",
    "\n",
    "# gets home dir cross platform\n",
    "HOME = os.path.expanduser(\"~\")\n",
    "\n",
    "# for making bounding boxes pretty\n",
    "COLORS = ((255, 0, 0, 128), (0, 255, 0, 128), (0, 0, 255, 128),\n",
    "          (0, 255, 255, 128), (255, 0, 255, 128), (255, 255, 0, 128))\n",
    "\n",
    "MEANS = (104, 117, 123)\n",
    "\n",
    "# SSD300 CONFIGS\n",
    "voc = {\n",
    "    'num_classes': 21,\n",
    "    'lr_steps': (80000, 100000, 120000),\n",
    "    'max_iter': 120000,\n",
    "    'feature_maps': [38, 19, 10, 5, 3, 1],\n",
    "    'min_dim': 300,\n",
    "    'steps': [8, 16, 32, 64, 100, 300],\n",
    "    'min_sizes': [30, 60, 111, 162, 213, 264],\n",
    "    'max_sizes': [60, 111, 162, 213, 264, 315],\n",
    "    'aspect_ratios': [[2], [2, 3], [2, 3], [2, 3], [2], [2]],\n",
    "    'variance': [0.1, 0.2],\n",
    "    'clip': True,\n",
    "    'name': 'VOC',\n",
    "}\n",
    "\n",
    "coco = {\n",
    "    'num_classes': 201,\n",
    "    'lr_steps': (280000, 360000, 400000),\n",
    "    'max_iter': 400000,\n",
    "    'feature_maps': [38, 19, 10, 5, 3, 1],\n",
    "    'min_dim': 300,\n",
    "    'steps': [8, 16, 32, 64, 100, 300],\n",
    "    'min_sizes': [21, 45, 99, 153, 207, 261],\n",
    "    'max_sizes': [45, 99, 153, 207, 261, 315],\n",
    "    'aspect_ratios': [[2], [2, 3], [2, 3], [2, 3], [2], [2]],\n",
    "    'variance': [0.1, 0.2],\n",
    "    'clip': True,\n",
    "    'name': 'COCO',\n",
    "}\n"
   ]
  }
 ],
 "metadata": {
  "kernelspec": {
   "display_name": "Python 3",
   "language": "python",
   "name": "python3"
  },
  "language_info": {
   "codemirror_mode": {
    "name": "ipython",
    "version": 3
   },
   "file_extension": ".py",
   "mimetype": "text/x-python",
   "name": "python",
   "nbconvert_exporter": "python",
   "pygments_lexer": "ipython3",
   "version": "3.7.6"
  }
 },
 "nbformat": 4,
 "nbformat_minor": 4
}
